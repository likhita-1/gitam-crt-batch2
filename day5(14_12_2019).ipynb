{
  "nbformat": 4,
  "nbformat_minor": 0,
  "metadata": {
    "colab": {
      "name": "day5(14/12/2019)",
      "provenance": []
    },
    "kernelspec": {
      "name": "python3",
      "display_name": "Python 3"
    }
  },
  "cells": [
    {
      "cell_type": "code",
      "metadata": {
        "id": "DV_goEQohiPd",
        "colab_type": "code",
        "colab": {}
      },
      "source": [
        ""
      ],
      "execution_count": 0,
      "outputs": []
    },
    {
      "cell_type": "markdown",
      "metadata": {
        "id": "l4bPYVCNh1UJ",
        "colab_type": "text"
      },
      "source": [
        "#membership operators  ->in,not in"
      ]
    },
    {
      "cell_type": "code",
      "metadata": {
        "id": "sTRASwM0iDKY",
        "colab_type": "code",
        "outputId": "7f1f6a04-9e78-4597-dbb2-67a34c0a1d7e",
        "colab": {
          "base_uri": "https://localhost:8080/",
          "height": 34
        }
      },
      "source": [
        "str1 =\"abc xyz\"\n",
        "'l' in str1"
      ],
      "execution_count": 0,
      "outputs": [
        {
          "output_type": "execute_result",
          "data": {
            "text/plain": [
              "False"
            ]
          },
          "metadata": {
            "tags": []
          },
          "execution_count": 6
        }
      ]
    },
    {
      "cell_type": "code",
      "metadata": {
        "id": "pD-xGNuFiiFd",
        "colab_type": "code",
        "outputId": "6e844c4f-4243-4fe9-a2b9-bfb90912504a",
        "colab": {
          "base_uri": "https://localhost:8080/",
          "height": 51
        }
      },
      "source": [
        "str1 =\"likhita yanamaddi\"\n",
        "print('fchygv' not in str1)\n",
        "print('likhita' in str1)"
      ],
      "execution_count": 0,
      "outputs": [
        {
          "output_type": "stream",
          "text": [
            "True\n",
            "True\n"
          ],
          "name": "stdout"
        }
      ]
    },
    {
      "cell_type": "code",
      "metadata": {
        "id": "9XWODtFEjOX-",
        "colab_type": "code",
        "outputId": "5b271119-7a51-4a5c-adcd-dced55bf0430",
        "colab": {
          "base_uri": "https://localhost:8080/",
          "height": 51
        }
      },
      "source": [
        "#identity operators -->is,is not\n",
        "x=10\n",
        "y=20\n",
        "print(x is y)\n",
        "print(id(x),id(y))"
      ],
      "execution_count": 0,
      "outputs": [
        {
          "output_type": "stream",
          "text": [
            "False\n",
            "10914784 10915104\n"
          ],
          "name": "stdout"
        }
      ]
    },
    {
      "cell_type": "code",
      "metadata": {
        "id": "0aB_jkZQjpb-",
        "colab_type": "code",
        "outputId": "cca367a2-2221-40af-cb87-cfd5a8d25603",
        "colab": {
          "base_uri": "https://localhost:8080/",
          "height": 51
        }
      },
      "source": [
        "x=10\n",
        "y=10\n",
        "print(x is not y)\n",
        "print(id(x),id(y))"
      ],
      "execution_count": 0,
      "outputs": [
        {
          "output_type": "stream",
          "text": [
            "False\n",
            "10914784 10914784\n"
          ],
          "name": "stdout"
        }
      ]
    },
    {
      "cell_type": "code",
      "metadata": {
        "id": "dzkJpc1EkddJ",
        "colab_type": "code",
        "outputId": "f095be0c-b01b-460d-aecc-a5640287ee89",
        "colab": {
          "base_uri": "https://localhost:8080/",
          "height": 51
        }
      },
      "source": [
        "x=10\n",
        "y=20\n",
        "a=2\n",
        "b=4\n",
        "print(\"x<y\") if x<y else print(\"x>y\")\n",
        "print(\"a<b\") if a>b else print(\"a>b\")"
      ],
      "execution_count": 0,
      "outputs": [
        {
          "output_type": "stream",
          "text": [
            "x<y\n",
            "a>b\n"
          ],
          "name": "stdout"
        }
      ]
    },
    {
      "cell_type": "code",
      "metadata": {
        "id": "5z7xvS2IlK3T",
        "colab_type": "code",
        "outputId": "e0925455-9d12-445f-f196-d889ee83c3f5",
        "colab": {
          "base_uri": "https://localhost:8080/",
          "height": 68
        }
      },
      "source": [
        "if x<y:\n",
        "    print(\"x<y\")\n",
        "    if (12<78):\n",
        "        print(\"hello\")\n",
        "        print(\"h1\")\n",
        "    else:\n",
        "        print(\"likhita\")\n",
        "else:\n",
        "    print(\"x>y\")"
      ],
      "execution_count": 0,
      "outputs": [
        {
          "output_type": "stream",
          "text": [
            "x<y\n",
            "hello\n",
            "h1\n"
          ],
          "name": "stdout"
        }
      ]
    },
    {
      "cell_type": "code",
      "metadata": {
        "id": "8WMsfKRhmEbT",
        "colab_type": "code",
        "outputId": "f86f26fa-7e02-4c67-aecd-7c110dc12918",
        "colab": {
          "base_uri": "https://localhost:8080/",
          "height": 51
        }
      },
      "source": [
        "#accept a no as an input and print the number is +ve,-ve or zero\n",
        "a= int(input(\"enter a number\"))\n",
        "if (a>0):\n",
        "    print(\"positive\")\n",
        "elif (a<0):\n",
        "    print(\"negative\")\n",
        "else:\n",
        "    print(\"zero\")\n",
        "\n"
      ],
      "execution_count": 0,
      "outputs": [
        {
          "output_type": "stream",
          "text": [
            "enter a number0\n",
            "zero\n"
          ],
          "name": "stdout"
        }
      ]
    },
    {
      "cell_type": "code",
      "metadata": {
        "id": "eFoZnNvJnqyp",
        "colab_type": "code",
        "outputId": "63ef609d-d0b9-4409-93ec-133e074a8228",
        "colab": {
          "base_uri": "https://localhost:8080/",
          "height": 51
        }
      },
      "source": [
        "a=int(input(\"enter a number\"))\n",
        "if ((a%2==0)and(a%3==0) and (a%4!=0)):\n",
        "  print(a)\n",
        "\n",
        "\n",
        "  \n"
      ],
      "execution_count": 0,
      "outputs": [
        {
          "output_type": "stream",
          "text": [
            "enter a number6\n",
            "6\n"
          ],
          "name": "stdout"
        }
      ]
    },
    {
      "cell_type": "code",
      "metadata": {
        "id": "2dELUY9mpeKd",
        "colab_type": "code",
        "outputId": "04ded444-eb85-4bed-cfca-ded8af21fa03",
        "colab": {
          "base_uri": "https://localhost:8080/",
          "height": 51
        }
      },
      "source": [
        "a,b,c = map(int,input().split())\n",
        "if ((a>30) and (b>30) and (c>30)):\n",
        "    avg=a+b+c/2\n",
        "    if(avg>75):\n",
        "        print(\"A\")\n",
        "    elif((avg>65) and(avg<70)):\n",
        "      print(\"B\")\n",
        "    elif((avg>50) and (avg<65)):\n",
        "        print(\"c\")\n",
        "    elif((avg>30)and (avg<50)):\n",
        "        print(\"D\")\n",
        "    else:\n",
        "        print(\"fail\")   \n",
        "\n",
        "else:\n",
        "    print(\"fail\")"
      ],
      "execution_count": 0,
      "outputs": [
        {
          "output_type": "stream",
          "text": [
            "12 34 56\n",
            "fail\n"
          ],
          "name": "stdout"
        }
      ]
    },
    {
      "cell_type": "code",
      "metadata": {
        "id": "5631axPmtp3n",
        "colab_type": "code",
        "outputId": "68bfbf5c-c9b3-43bd-d127-fbdd2aa4b533",
        "colab": {
          "base_uri": "https://localhost:8080/",
          "height": 51
        }
      },
      "source": [
        "#while loop\n",
        "i=1\n",
        "n=int(input())\n",
        "while i<=n:\n",
        "    print(i,end=\" \")\n",
        "    i += "
      ],
      "execution_count": 0,
      "outputs": [
        {
          "output_type": "stream",
          "text": [
            "10\n",
            "1 2 3 4 5 6 7 8 9 10 "
          ],
          "name": "stdout"
        }
      ]
    },
    {
      "cell_type": "code",
      "metadata": {
        "id": "J0rqZg78vr1N",
        "colab_type": "code",
        "outputId": "7626da6a-79aa-4c04-9be8-958541de709d",
        "colab": {
          "base_uri": "https://localhost:8080/",
          "height": 51
        }
      },
      "source": [
        "i=1\n",
        "sum=0\n",
        "n=int(input())\n",
        "while i<=n:\n",
        "    if i%2 ==0:\n",
        "      sum += i\n",
        "    i += 1\n",
        "print(sum) \n",
        "    "
      ],
      "execution_count": 0,
      "outputs": [
        {
          "output_type": "stream",
          "text": [
            "6\n",
            "12\n"
          ],
          "name": "stdout"
        }
      ]
    },
    {
      "cell_type": "code",
      "metadata": {
        "id": "YKH-2cinwcAE",
        "colab_type": "code",
        "outputId": "b4117ddc-4dea-4c6a-9d31-ef765bf46249",
        "colab": {
          "base_uri": "https://localhost:8080/",
          "height": 51
        }
      },
      "source": [
        "i=1\n",
        "n=int(input(\"enter number\"))\n",
        "while(n!=0):\n",
        "    print(n%10,end=\" \")\n",
        "    n=n//10"
      ],
      "execution_count": 0,
      "outputs": [
        {
          "output_type": "stream",
          "text": [
            "enter number123\n",
            "3 2 1 "
          ],
          "name": "stdout"
        }
      ]
    },
    {
      "cell_type": "code",
      "metadata": {
        "id": "3OqUONmMy2Bb",
        "colab_type": "code",
        "colab": {}
      },
      "source": [
        "sum=0\n",
        "n=int(input(\"enter number\"))\n",
        "while(n!=0):\n",
        "    sum =sum+(n%10)\n",
        "    n=n//10\n",
        "print(sum)\n"
      ],
      "execution_count": 0,
      "outputs": []
    },
    {
      "cell_type": "code",
      "metadata": {
        "id": "f60DycgU1-qW",
        "colab_type": "code",
        "outputId": "f2ffea60-260b-4fe3-c9aa-0aa5ea6be5be",
        "colab": {
          "base_uri": "https://localhost:8080/",
          "height": 231
        }
      },
      "source": [
        "str1=\"application1889\"\n",
        "i=0\n",
        "sum=0\n",
        "count=len(str1)\n",
        "while(i<count):\n",
        "  if(str1.isdigit()):\n",
        "      sum=sum+int(str1[i])\n",
        "      i += 1\n",
        "print(sum)\n"
      ],
      "execution_count": 0,
      "outputs": [
        {
          "output_type": "error",
          "ename": "KeyboardInterrupt",
          "evalue": "ignored",
          "traceback": [
            "\u001b[0;31m---------------------------------------------------------------------------\u001b[0m",
            "\u001b[0;31mKeyboardInterrupt\u001b[0m                         Traceback (most recent call last)",
            "\u001b[0;32m<ipython-input-51-76eb7c36b38f>\u001b[0m in \u001b[0;36m<module>\u001b[0;34m()\u001b[0m\n\u001b[1;32m      3\u001b[0m \u001b[0msum\u001b[0m\u001b[0;34m=\u001b[0m\u001b[0;36m0\u001b[0m\u001b[0;34m\u001b[0m\u001b[0;34m\u001b[0m\u001b[0m\n\u001b[1;32m      4\u001b[0m \u001b[0mcount\u001b[0m\u001b[0;34m=\u001b[0m\u001b[0mlen\u001b[0m\u001b[0;34m(\u001b[0m\u001b[0mstr1\u001b[0m\u001b[0;34m)\u001b[0m\u001b[0;34m\u001b[0m\u001b[0;34m\u001b[0m\u001b[0m\n\u001b[0;32m----> 5\u001b[0;31m \u001b[0;32mwhile\u001b[0m\u001b[0;34m(\u001b[0m\u001b[0mi\u001b[0m\u001b[0;34m<\u001b[0m\u001b[0mcount\u001b[0m\u001b[0;34m)\u001b[0m\u001b[0;34m:\u001b[0m\u001b[0;34m\u001b[0m\u001b[0;34m\u001b[0m\u001b[0m\n\u001b[0m\u001b[1;32m      6\u001b[0m   \u001b[0;32mif\u001b[0m\u001b[0;34m(\u001b[0m\u001b[0mstr1\u001b[0m\u001b[0;34m.\u001b[0m\u001b[0misdigit\u001b[0m\u001b[0;34m(\u001b[0m\u001b[0;34m)\u001b[0m\u001b[0;34m)\u001b[0m\u001b[0;34m:\u001b[0m\u001b[0;34m\u001b[0m\u001b[0;34m\u001b[0m\u001b[0m\n\u001b[1;32m      7\u001b[0m       \u001b[0msum\u001b[0m\u001b[0;34m=\u001b[0m\u001b[0msum\u001b[0m\u001b[0;34m+\u001b[0m\u001b[0mint\u001b[0m\u001b[0;34m(\u001b[0m\u001b[0mstr1\u001b[0m\u001b[0;34m[\u001b[0m\u001b[0mi\u001b[0m\u001b[0;34m]\u001b[0m\u001b[0;34m)\u001b[0m\u001b[0;34m\u001b[0m\u001b[0;34m\u001b[0m\u001b[0m\n",
            "\u001b[0;31mKeyboardInterrupt\u001b[0m: "
          ]
        }
      ]
    }
  ]
}