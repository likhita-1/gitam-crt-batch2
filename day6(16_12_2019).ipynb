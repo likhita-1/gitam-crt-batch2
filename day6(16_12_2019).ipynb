{
  "nbformat": 4,
  "nbformat_minor": 0,
  "metadata": {
    "colab": {
      "name": "day6(16/12/2019)",
      "provenance": []
    },
    "kernelspec": {
      "name": "python3",
      "display_name": "Python 3"
    }
  },
  "cells": [
    {
      "cell_type": "code",
      "metadata": {
        "id": "PK6Nc0E1KMfb",
        "colab_type": "code",
        "colab": {}
      },
      "source": [
        "#collection type:\n",
        "#1.list\n",
        "2.tuple\n",
        "3.dictionary"
      ],
      "execution_count": 0,
      "outputs": []
    },
    {
      "cell_type": "code",
      "metadata": {
        "id": "v7JjV5-tKaZU",
        "colab_type": "code",
        "outputId": "958548bc-9f4a-482b-f1ac-f17307e6c571",
        "colab": {
          "base_uri": "https://localhost:8080/",
          "height": 34
        }
      },
      "source": [
        "#list->indexed,ordered,mutable,allows duplicate values\n",
        "list1 =[100,20.6,200,500,\"likhi\",True]\n",
        "list1.append(300)\n",
        "list1.insert(3,200)\n",
        "list1.extend([600,700,900])\n",
        "print(list1)"
      ],
      "execution_count": 0,
      "outputs": [
        {
          "output_type": "stream",
          "text": [
            "[100, 20.6, 200, 200, 500, 'likhi', True, 300, 600, 700, 900]\n"
          ],
          "name": "stdout"
        }
      ]
    },
    {
      "cell_type": "code",
      "metadata": {
        "id": "DvqyOtUwNBsI",
        "colab_type": "code",
        "outputId": "59eeb23d-983e-473d-8606-46d1eec07ea1",
        "colab": {
          "base_uri": "https://localhost:8080/",
          "height": 51
        }
      },
      "source": [
        "#removing the elements-->pop(),remove()\n",
        "del list1[-1]\n",
        "print(list1)\n",
        "#r = list1.pop(4)\n",
        "#print(list1,r)\n",
        "list1.remove(200)\n",
        "print(list1)"
      ],
      "execution_count": 0,
      "outputs": [
        {
          "output_type": "stream",
          "text": [
            "[100, 20.6, 200]\n",
            "[100, 20.6]\n"
          ],
          "name": "stdout"
        }
      ]
    },
    {
      "cell_type": "code",
      "metadata": {
        "id": "aqX_Z-84Oms8",
        "colab_type": "code",
        "outputId": "ea324bce-e490-4636-b4ee-980b0374f1fc",
        "colab": {
          "base_uri": "https://localhost:8080/",
          "height": 34
        }
      },
      "source": [
        "#assignments of list\n",
        "list2 =[900,800,200,100]\n",
        "print(list2)\n",
        "list2.sort(reverse=True)"
      ],
      "execution_count": 0,
      "outputs": [
        {
          "output_type": "stream",
          "text": [
            "[900, 800, 200, 100]\n"
          ],
          "name": "stdout"
        }
      ]
    },
    {
      "cell_type": "code",
      "metadata": {
        "id": "mWaAmQY6PoJP",
        "colab_type": "code",
        "outputId": "09ed415d-9040-422d-fba0-744ba01fbf63",
        "colab": {
          "base_uri": "https://localhost:8080/",
          "height": 34
        }
      },
      "source": [
        "list2.index(800)"
      ],
      "execution_count": 0,
      "outputs": [
        {
          "output_type": "execute_result",
          "data": {
            "text/plain": [
              "1"
            ]
          },
          "metadata": {
            "tags": []
          },
          "execution_count": 15
        }
      ]
    },
    {
      "cell_type": "code",
      "metadata": {
        "id": "sFlOFCMPQGm3",
        "colab_type": "code",
        "outputId": "53caf8f2-84f5-4b7a-9d8f-537c33e49bb4",
        "colab": {
          "base_uri": "https://localhost:8080/",
          "height": 34
        }
      },
      "source": [
        "list1\n"
      ],
      "execution_count": 0,
      "outputs": [
        {
          "output_type": "execute_result",
          "data": {
            "text/plain": [
              "[900, 800, 200, 100, 'likhi']"
            ]
          },
          "metadata": {
            "tags": []
          },
          "execution_count": 16
        }
      ]
    },
    {
      "cell_type": "code",
      "metadata": {
        "id": "Of-KWKqqQOnp",
        "colab_type": "code",
        "outputId": "29f808df-8a5b-4b9b-ed53-11c264dda192",
        "colab": {
          "base_uri": "https://localhost:8080/",
          "height": 34
        }
      },
      "source": [
        "list2"
      ],
      "execution_count": 0,
      "outputs": [
        {
          "output_type": "execute_result",
          "data": {
            "text/plain": [
              "[900, 800, 200, 100]"
            ]
          },
          "metadata": {
            "tags": []
          },
          "execution_count": 17
        }
      ]
    },
    {
      "cell_type": "code",
      "metadata": {
        "id": "9WZ1fJIvQXJg",
        "colab_type": "code",
        "outputId": "dee174e6-1546-4f89-b75d-077cd61bf40c",
        "colab": {
          "base_uri": "https://localhost:8080/",
          "height": 34
        }
      },
      "source": [
        "list1=list2\n",
        "print(list1)"
      ],
      "execution_count": 0,
      "outputs": [
        {
          "output_type": "stream",
          "text": [
            "[900, 800, 200, 100]\n"
          ],
          "name": "stdout"
        }
      ]
    },
    {
      "cell_type": "code",
      "metadata": {
        "id": "lpusXV16QwCF",
        "colab_type": "code",
        "outputId": "9863aa2d-77c8-4f0d-c04b-f756469da1fe",
        "colab": {
          "base_uri": "https://localhost:8080/",
          "height": 34
        }
      },
      "source": [
        "list1.append(300)\n",
        "list1.append(600)\n",
        "print(list1,list2)"
      ],
      "execution_count": 0,
      "outputs": [
        {
          "output_type": "stream",
          "text": [
            "[900, 800, 200, 100, 300, 600] [900, 800, 200, 100, 300, 600]\n"
          ],
          "name": "stdout"
        }
      ]
    },
    {
      "cell_type": "code",
      "metadata": {
        "id": "cn_qq4gwRBsh",
        "colab_type": "code",
        "outputId": "55b18973-9c6a-4325-a301-daf95f1806d5",
        "colab": {
          "base_uri": "https://localhost:8080/",
          "height": 51
        }
      },
      "source": [
        "list3=[100,200,300,300,500,600,700]\n",
        "print(list3)\n",
        "list3.count(300)"
      ],
      "execution_count": 0,
      "outputs": [
        {
          "output_type": "stream",
          "text": [
            "[100, 200, 300, 300, 500, 600, 700]\n"
          ],
          "name": "stdout"
        },
        {
          "output_type": "execute_result",
          "data": {
            "text/plain": [
              "2"
            ]
          },
          "metadata": {
            "tags": []
          },
          "execution_count": 23
        }
      ]
    },
    {
      "cell_type": "code",
      "metadata": {
        "id": "YgZ7-HUsRXpC",
        "colab_type": "code",
        "outputId": "bc9f4f0f-73ba-4c9c-e901-a8b6e8854548",
        "colab": {
          "base_uri": "https://localhost:8080/",
          "height": 102
        }
      },
      "source": [
        "#accept 3 sub marks of the student and store all the marks in the single list and the return total marks of the student\n",
        "n=int(input(\"enter no of subjects\"))\n",
        "marks=[]\n",
        "for i in range(n):\n",
        "    marks.append(int(input()))\n",
        "print(\"sum\",sum(marks))\n"
      ],
      "execution_count": 0,
      "outputs": [
        {
          "output_type": "stream",
          "text": [
            "enter no of subjects3\n",
            "10\n",
            "23\n",
            "45\n",
            "sum 78\n"
          ],
          "name": "stdout"
        }
      ]
    },
    {
      "cell_type": "code",
      "metadata": {
        "id": "iWEMZtVqUwRs",
        "colab_type": "code",
        "outputId": "62537e59-ae05-40ef-c2d2-c88860cabd79",
        "colab": {
          "base_uri": "https://localhost:8080/",
          "height": 85
        }
      },
      "source": [
        "n=int(input(\"enter the elements\"))\n",
        "elements=[]\n",
        "for i in range(n):\n",
        "    elements.append(int(input()))\n",
        "print(\"max\",max(elements))\n"
      ],
      "execution_count": 0,
      "outputs": [
        {
          "output_type": "stream",
          "text": [
            "enter the elements2\n",
            "23\n",
            "34\n",
            "max 34\n"
          ],
          "name": "stdout"
        }
      ]
    },
    {
      "cell_type": "code",
      "metadata": {
        "id": "ptL2MMbaWg8y",
        "colab_type": "code",
        "outputId": "ac5a3b68-e6db-485c-c88d-ae4ee589e52c",
        "colab": {
          "base_uri": "https://localhost:8080/",
          "height": 34
        }
      },
      "source": [
        "#Tuple -->indexed,ordered,allows duplicate values,immutable\n",
        "#use()\n",
        "t1=(23,34,45,67)\n",
        "l1 = list(t1)\n",
        "l1[2] =100\n",
        "t1 = tuple(l1)\n",
        "print(t1)\n"
      ],
      "execution_count": 0,
      "outputs": [
        {
          "output_type": "stream",
          "text": [
            "(23, 34, 100, 67)\n"
          ],
          "name": "stdout"
        }
      ]
    },
    {
      "cell_type": "markdown",
      "metadata": {
        "id": "KERcvHeKZo0d",
        "colab_type": "text"
      },
      "source": [
        "#dic1 = {key1:value1,key2:value2,...}\n",
        "##rules for keys\n",
        "###1.keys should be unique,\n",
        "###2.keys should be immutable(numbers,strings,tuple)\n",
        "\n"
      ]
    },
    {
      "cell_type": "code",
      "metadata": {
        "id": "zO6MS51RaUOO",
        "colab_type": "code",
        "outputId": "2efe693c-ccbf-4eab-b716-31786da4a364",
        "colab": {
          "base_uri": "https://localhost:8080/",
          "height": 34
        }
      },
      "source": [
        "s1 = {\"name\":\"likhi\",\"roll number\":24,\"course\":\"cse\",\"name\":\"ashu\"}\n",
        "s1[\"address\"] = \"hyd\"\n",
        "s1"
      ],
      "execution_count": 0,
      "outputs": [
        {
          "output_type": "execute_result",
          "data": {
            "text/plain": [
              "{'address': 'hyd', 'course': 'cse', 'name': 'ashu', 'roll number': 24}"
            ]
          },
          "metadata": {
            "tags": []
          },
          "execution_count": 39
        }
      ]
    },
    {
      "cell_type": "code",
      "metadata": {
        "id": "XfcdZtQOb-jt",
        "colab_type": "code",
        "outputId": "ab76229f-99de-4631-9703-0ec91086edc4",
        "colab": {
          "base_uri": "https://localhost:8080/",
          "height": 34
        }
      },
      "source": [
        "del s1[\"course\"]\n",
        "s1"
      ],
      "execution_count": 0,
      "outputs": [
        {
          "output_type": "execute_result",
          "data": {
            "text/plain": [
              "{'address': 'hyd', 'name': 'ashu', 'roll number': 24}"
            ]
          },
          "metadata": {
            "tags": []
          },
          "execution_count": 40
        }
      ]
    },
    {
      "cell_type": "code",
      "metadata": {
        "id": "gTOaiLVwce1S",
        "colab_type": "code",
        "outputId": "8f5a9ef2-eb3e-49e7-afb0-5b35af6e8aa3",
        "colab": {
          "base_uri": "https://localhost:8080/",
          "height": 34
        }
      },
      "source": [
        "#updating ur dictionary\n",
        "s1[\"address\"] = \"bangalore\"\n",
        "s1"
      ],
      "execution_count": 0,
      "outputs": [
        {
          "output_type": "execute_result",
          "data": {
            "text/plain": [
              "{'address': 'bangalore', 'name': 'ashu', 'roll number': 24}"
            ]
          },
          "metadata": {
            "tags": []
          },
          "execution_count": 41
        }
      ]
    },
    {
      "cell_type": "code",
      "metadata": {
        "id": "lrikzwx-cxl6",
        "colab_type": "code",
        "colab": {}
      },
      "source": [
        ""
      ],
      "execution_count": 0,
      "outputs": []
    }
  ]
}